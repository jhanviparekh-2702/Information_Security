{
  "nbformat": 4,
  "nbformat_minor": 0,
  "metadata": {
    "colab": {
      "provenance": []
    },
    "kernelspec": {
      "name": "python3",
      "display_name": "Python 3"
    },
    "language_info": {
      "name": "python"
    }
  },
  "cells": [
    {
      "cell_type": "markdown",
      "source": [
        "#Boolean Gate via Perceptron"
      ],
      "metadata": {
        "id": "U0pLnyxKTWGE"
      }
    },
    {
      "cell_type": "markdown",
      "source": [
        "And Gate"
      ],
      "metadata": {
        "id": "ed0cV-jhUQXd"
      }
    },
    {
      "cell_type": "code",
      "execution_count": null,
      "metadata": {
        "id": "crufwaQnPbnD"
      },
      "outputs": [],
      "source": [
        "import numpy as np\n",
        "\n",
        "def unitStep (y_in):\n",
        "  if y_in>=0:\n",
        "    return 1\n",
        "  else:\n",
        "    return 0\n"
      ]
    },
    {
      "cell_type": "code",
      "source": [
        "def perceptron(x,w,b):\n",
        "  y_in=np.dot(w,x) + b\n",
        "  y_hat=unitStep(y_in)\n",
        "  return y_hat\n"
      ],
      "metadata": {
        "id": "JtfCpFNFRMKJ"
      },
      "execution_count": null,
      "outputs": []
    },
    {
      "cell_type": "code",
      "source": [
        "def And_fun(x):\n",
        "  w=np.array([1,1])\n",
        "  b=-2\n",
        "  return perceptron(x,w,b)"
      ],
      "metadata": {
        "id": "HJZlCPR8S1CI"
      },
      "execution_count": null,
      "outputs": []
    },
    {
      "cell_type": "code",
      "source": [
        "test1=np.array([0,0])\n",
        "test2=np.array([0,1])\n",
        "test3=np.array([1,0])\n",
        "test4=np.array([1,1])"
      ],
      "metadata": {
        "id": "16bYGBDrQ5Eg"
      },
      "execution_count": null,
      "outputs": []
    },
    {
      "cell_type": "code",
      "source": [
        "print(And_fun(test1))\n",
        "print(And_fun(test2))\n",
        "print(And_fun(test3))\n",
        "print(And_fun(test4))"
      ],
      "metadata": {
        "colab": {
          "base_uri": "https://localhost:8080/"
        },
        "id": "gfyfr5jMQ5HY",
        "outputId": "4f485c5c-6f96-4245-a6de-645b8c621a38"
      },
      "execution_count": null,
      "outputs": [
        {
          "output_type": "stream",
          "name": "stdout",
          "text": [
            "0\n",
            "0\n",
            "0\n",
            "1\n"
          ]
        }
      ]
    },
    {
      "cell_type": "markdown",
      "source": [
        "OR Gate"
      ],
      "metadata": {
        "id": "LmYctpsVUPp3"
      }
    },
    {
      "cell_type": "code",
      "source": [
        "import numpy as np\n",
        "\n",
        "def unitStep (y_in):\n",
        "  if y_in>=-0:\n",
        "    return 1\n",
        "  else:\n",
        "    return 0\n",
        "\n"
      ],
      "metadata": {
        "id": "sFK15r2dQ5Jy"
      },
      "execution_count": null,
      "outputs": []
    },
    {
      "cell_type": "code",
      "source": [
        "def perceptron(x,w,b):\n",
        "  y_in=np.dot(w,x) + b\n",
        "  y_hat=unitStep(y_in)\n",
        "  return y_hat"
      ],
      "metadata": {
        "id": "-afzEb-IQ5MH"
      },
      "execution_count": null,
      "outputs": []
    },
    {
      "cell_type": "code",
      "source": [
        "def or_fun(x):\n",
        "  w=np.array([1,1])\n",
        "  b=-1\n",
        "  return perceptron(x,w,b)"
      ],
      "metadata": {
        "id": "2PkbqOcxUiCH"
      },
      "execution_count": null,
      "outputs": []
    },
    {
      "cell_type": "code",
      "source": [
        "test1=np.array([0,0])\n",
        "test2=np.array([0,1])\n",
        "test3=np.array([1,0])\n",
        "test4=np.array([1,1])"
      ],
      "metadata": {
        "id": "ej1JprZCUiF-"
      },
      "execution_count": null,
      "outputs": []
    },
    {
      "cell_type": "code",
      "source": [
        "print(or_fun(test1))\n",
        "print(or_fun(test2))\n",
        "print(or_fun(test3))\n",
        "print(or_fun(test4))"
      ],
      "metadata": {
        "colab": {
          "base_uri": "https://localhost:8080/"
        },
        "id": "UBUcIso7UiIt",
        "outputId": "84220be4-ec5c-469a-c965-b506249efb4f"
      },
      "execution_count": null,
      "outputs": [
        {
          "output_type": "stream",
          "name": "stdout",
          "text": [
            "0\n",
            "1\n",
            "1\n",
            "1\n"
          ]
        }
      ]
    },
    {
      "cell_type": "markdown",
      "source": [
        "Not gate"
      ],
      "metadata": {
        "id": "kkJ4bJZBYeAs"
      }
    },
    {
      "cell_type": "code",
      "source": [
        "import numpy as np\n",
        "\n",
        "def unitStep (y_in):\n",
        "  if y_in<=0:\n",
        "    return 1\n",
        "  else:\n",
        "    return 0"
      ],
      "metadata": {
        "id": "ssYrS8fLUiLh"
      },
      "execution_count": null,
      "outputs": []
    },
    {
      "cell_type": "code",
      "source": [
        "def perceptron(x,w,b):\n",
        "  y_in=np.dot(w,x) + b\n",
        "  y_hat=unitStep(y_in)\n",
        "  return y_hat"
      ],
      "metadata": {
        "id": "EsYKS1CdYhu1"
      },
      "execution_count": null,
      "outputs": []
    },
    {
      "cell_type": "code",
      "source": [
        "def not_fun(x):\n",
        "  w=1\n",
        "  b=0\n",
        "  return perceptron(x,w,b)"
      ],
      "metadata": {
        "id": "1hPG9_zTYhzE"
      },
      "execution_count": null,
      "outputs": []
    },
    {
      "cell_type": "code",
      "source": [
        "test1=np.array([0])\n",
        "test2=np.array([1])"
      ],
      "metadata": {
        "id": "iJ1ZgXoJYh02"
      },
      "execution_count": null,
      "outputs": []
    },
    {
      "cell_type": "code",
      "source": [
        "print(not_fun(test1))\n",
        "print(not_fun(test2))\n"
      ],
      "metadata": {
        "colab": {
          "base_uri": "https://localhost:8080/"
        },
        "id": "xK5Pjt1qYh2L",
        "outputId": "27ed00ff-0299-4de4-e8f4-d20da8e000fa"
      },
      "execution_count": null,
      "outputs": [
        {
          "output_type": "stream",
          "name": "stdout",
          "text": [
            "1\n",
            "0\n"
          ]
        }
      ]
    },
    {
      "cell_type": "markdown",
      "source": [
        "NAND GATE"
      ],
      "metadata": {
        "id": "ilWvkUFqbfOb"
      }
    },
    {
      "cell_type": "code",
      "source": [
        "import numpy as np\n",
        "\n",
        "def unitStep (y_in):\n",
        "  if y_in<=0:\n",
        "    return 1\n",
        "  else:\n",
        "    return 0"
      ],
      "metadata": {
        "id": "y_vKt3wpbiyi"
      },
      "execution_count": null,
      "outputs": []
    },
    {
      "cell_type": "code",
      "source": [
        "def perceptron(x,w,b):\n",
        "  y_in=np.dot(w,x) + b\n",
        "  y_hat=unitStep(y_in)\n",
        "  return y_hat"
      ],
      "metadata": {
        "id": "sede_cuybi3M"
      },
      "execution_count": null,
      "outputs": []
    },
    {
      "cell_type": "code",
      "source": [
        "def nand_fun(x):\n",
        "  w=np.array([1,1])\n",
        "  b=-1\n",
        "  return perceptron(x,w,b)"
      ],
      "metadata": {
        "id": "pDGYdjKzbi7D"
      },
      "execution_count": null,
      "outputs": []
    },
    {
      "cell_type": "code",
      "source": [
        "test1=np.array([0,0])\n",
        "test2=np.array([0,1])\n",
        "test3=np.array([1,0])\n",
        "test4=np.array([1,1])"
      ],
      "metadata": {
        "id": "iRvKehAZbi9b"
      },
      "execution_count": null,
      "outputs": []
    },
    {
      "cell_type": "code",
      "source": [
        "print(nand_fun(test1))\n",
        "print(nand_fun(test2))\n",
        "print(nand_fun(test3))\n",
        "print(nand_fun(test4))"
      ],
      "metadata": {
        "colab": {
          "base_uri": "https://localhost:8080/"
        },
        "id": "nzcjoczGdgv0",
        "outputId": "7161fbc7-2b38-4bf4-9956-86eda1e0cdbe"
      },
      "execution_count": null,
      "outputs": [
        {
          "output_type": "stream",
          "name": "stdout",
          "text": [
            "1\n",
            "1\n",
            "1\n",
            "0\n"
          ]
        }
      ]
    },
    {
      "cell_type": "markdown",
      "source": [
        "NOR Gate"
      ],
      "metadata": {
        "id": "4T01XWo0d1dT"
      }
    },
    {
      "cell_type": "code",
      "source": [
        "import numpy as np\n",
        "\n",
        "def unitStep (y_in):\n",
        "  if y_in<=0:\n",
        "    return 1\n",
        "  else:\n",
        "    return 0"
      ],
      "metadata": {
        "id": "Ej8Wgf0Tdgx_"
      },
      "execution_count": null,
      "outputs": []
    },
    {
      "cell_type": "code",
      "source": [
        "def perceptron(x,w,b):\n",
        "  y_in=np.dot(w,x) + b\n",
        "  y_hat=unitStep(y_in)\n",
        "  return y_hat"
      ],
      "metadata": {
        "id": "AN1DmzHtd48m"
      },
      "execution_count": null,
      "outputs": []
    },
    {
      "cell_type": "code",
      "source": [
        "def nor_fun(x):\n",
        "  w=np.array([1,1])\n",
        "  b=0\n",
        "  return perceptron(x,w,b)"
      ],
      "metadata": {
        "id": "nsr94__pd4-8"
      },
      "execution_count": null,
      "outputs": []
    },
    {
      "cell_type": "code",
      "source": [
        "test1=np.array([0,0])\n",
        "test2=np.array([0,1])\n",
        "test3=np.array([1,0])\n",
        "test4=np.array([1,1])"
      ],
      "metadata": {
        "id": "uWTq_tHsd5BU"
      },
      "execution_count": null,
      "outputs": []
    },
    {
      "cell_type": "code",
      "source": [
        "print(nor_fun(test1))\n",
        "print(nor_fun(test2))\n",
        "print(nor_fun(test3))\n",
        "print(nor_fun(test4))"
      ],
      "metadata": {
        "colab": {
          "base_uri": "https://localhost:8080/"
        },
        "id": "rqFXK8tweCbe",
        "outputId": "15fcaf76-99f5-487a-f487-e7b510571a96"
      },
      "execution_count": null,
      "outputs": [
        {
          "output_type": "stream",
          "name": "stdout",
          "text": [
            "1\n",
            "0\n",
            "0\n",
            "0\n"
          ]
        }
      ]
    },
    {
      "cell_type": "markdown",
      "source": [
        "EX-OR gate"
      ],
      "metadata": {
        "id": "zdagWiLteW3l"
      }
    },
    {
      "cell_type": "code",
      "source": [
        "import numpy as np\n",
        "\n",
        "def unitStep (y_in):\n",
        "  if y_in==-1:\n",
        "    return 1\n",
        "  else:\n",
        "    return 0"
      ],
      "metadata": {
        "id": "sqsk1cSneCkc"
      },
      "execution_count": null,
      "outputs": []
    },
    {
      "cell_type": "code",
      "source": [
        "def perceptron(x,w,b):\n",
        "  y_in=np.dot(w,x) + b\n",
        "  y_hat=unitStep(y_in)\n",
        "  return y_hat"
      ],
      "metadata": {
        "id": "vFssR3UzefQ8"
      },
      "execution_count": null,
      "outputs": []
    },
    {
      "cell_type": "code",
      "source": [
        "def nor_fun(x):\n",
        "  w=np.array([1,1])\n",
        "  b=-2\n",
        "  return perceptron(x,w,b)"
      ],
      "metadata": {
        "id": "feKKtIYtefTO"
      },
      "execution_count": null,
      "outputs": []
    },
    {
      "cell_type": "code",
      "source": [
        "test1=np.array([0,0])\n",
        "test2=np.array([0,1])\n",
        "test3=np.array([1,0])\n",
        "test4=np.array([1,1])"
      ],
      "metadata": {
        "id": "YUSHfGjvefU8"
      },
      "execution_count": null,
      "outputs": []
    },
    {
      "cell_type": "code",
      "source": [
        "print(nor_fun(test1))\n",
        "print(nor_fun(test2))\n",
        "print(nor_fun(test3))\n",
        "print(nor_fun(test4))"
      ],
      "metadata": {
        "colab": {
          "base_uri": "https://localhost:8080/"
        },
        "id": "6jBfCtclefWr",
        "outputId": "16e860b6-3b5f-4756-861c-daec71c29ee9"
      },
      "execution_count": null,
      "outputs": [
        {
          "output_type": "stream",
          "name": "stdout",
          "text": [
            "0\n",
            "1\n",
            "1\n",
            "0\n"
          ]
        }
      ]
    }
  ]
}