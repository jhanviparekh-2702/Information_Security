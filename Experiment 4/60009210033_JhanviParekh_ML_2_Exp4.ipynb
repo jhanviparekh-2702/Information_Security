{
  "cells": [
    {
      "cell_type": "code",
      "execution_count": null,
      "metadata": {
        "id": "EC4O0nwWrdw-"
      },
      "outputs": [],
      "source": [
        "import random\n",
        "import numpy as np\n",
        "import pandas as pd\n",
        "from sklearn import datasets\n",
        "import matplotlib.pyplot as plt\n",
        "from sklearn.model_selection import train_test_split"
      ]
    },
    {
      "cell_type": "code",
      "execution_count": null,
      "metadata": {
        "id": "Oz-xVaH6ymSg"
      },
      "outputs": [],
      "source": [
        "df = datasets.load_iris()"
      ]
    },
    {
      "cell_type": "code",
      "execution_count": null,
      "metadata": {
        "colab": {
          "base_uri": "https://localhost:8080/"
        },
        "id": "lUpbQK28zMkz",
        "outputId": "e9d64529-1a0b-4668-f96a-68de8efabcbf"
      },
      "outputs": [
        {
          "output_type": "stream",
          "name": "stdout",
          "text": [
            "(150, 4)\n"
          ]
        }
      ],
      "source": [
        "X = df['data']\n",
        "print(X.shape)"
      ]
    },
    {
      "cell_type": "code",
      "execution_count": null,
      "metadata": {
        "colab": {
          "base_uri": "https://localhost:8080/"
        },
        "id": "5RB2MZZ6zZPs",
        "outputId": "8cf21463-da04-4c9f-d3fe-e6b591156c9e"
      },
      "outputs": [
        {
          "output_type": "stream",
          "name": "stdout",
          "text": [
            "(150,)\n"
          ]
        }
      ],
      "source": [
        "df_Y = df['target']\n",
        "print(df_Y.shape)"
      ]
    },
    {
      "cell_type": "code",
      "execution_count": null,
      "metadata": {
        "id": "458oYUrFzcyb"
      },
      "outputs": [],
      "source": [
        "Y = pd.get_dummies(df_Y).values"
      ]
    },
    {
      "cell_type": "code",
      "execution_count": null,
      "metadata": {
        "id": "S3V3cCIuvSdr"
      },
      "outputs": [],
      "source": [
        "alpha = 1\n",
        "epochs = list(range(1,201))"
      ]
    },
    {
      "cell_type": "code",
      "execution_count": null,
      "metadata": {
        "colab": {
          "base_uri": "https://localhost:8080/"
        },
        "id": "JkjA8oRKsC4n",
        "outputId": "eb46143c-1cf8-44f9-c9bd-502ea7e5d0cc"
      },
      "outputs": [
        {
          "output_type": "stream",
          "name": "stdout",
          "text": [
            "[[ 1.20995004e-01 -7.46642776e-01]\n",
            " [ 4.98760262e-01  7.46934965e-04]\n",
            " [ 2.69917481e-01  8.42879504e-01]\n",
            " [-5.08379976e-01 -1.58269135e+00]]\n"
          ]
        }
      ],
      "source": [
        "v = np.random.normal(size=(4,2))\n",
        "print(v)"
      ]
    },
    {
      "cell_type": "code",
      "execution_count": null,
      "metadata": {
        "colab": {
          "base_uri": "https://localhost:8080/"
        },
        "id": "fyNoX-ub3s_A",
        "outputId": "02de8182-852a-430f-aa62-987b85426039"
      },
      "outputs": [
        {
          "output_type": "stream",
          "name": "stdout",
          "text": [
            "[[-1.21274029 -0.51749901  0.28513795]\n",
            " [ 0.04885816  1.28795171 -0.52271719]]\n"
          ]
        }
      ],
      "source": [
        "w = np.random.normal(size=(2,3))\n",
        "print(w)"
      ]
    },
    {
      "cell_type": "code",
      "execution_count": null,
      "metadata": {
        "id": "HrBeX3_G4jj5"
      },
      "outputs": [],
      "source": [
        "X_train, X_test, Y_train, Y_test = train_test_split(X,Y, test_size=0.3, random_state=50)"
      ]
    },
    {
      "cell_type": "code",
      "execution_count": null,
      "metadata": {
        "id": "6HlY-xLQ0OjR"
      },
      "outputs": [],
      "source": [
        "def activation(x):\n",
        "    y = 1 / (1 + np.exp(-x))\n",
        "    return y"
      ]
    },
    {
      "cell_type": "code",
      "execution_count": null,
      "metadata": {
        "id": "DCYGtHjG7tIs"
      },
      "outputs": [],
      "source": [
        "def error(y, y_hat):\n",
        "    err = np.array((y-y_hat)**2)\n",
        "    err = err.mean()\n",
        "\n",
        "    return err"
      ]
    },
    {
      "cell_type": "code",
      "execution_count": null,
      "metadata": {
        "id": "BhJto23R9SBM"
      },
      "outputs": [],
      "source": [
        "def accuracy(y, y_hat):\n",
        "    acc = 0\n",
        "    acc += np.argmax(y, axis=1) == np.argmax(y_hat, axis=1)\n",
        "    # print(acc)\n",
        "    return acc.mean()"
      ]
    },
    {
      "cell_type": "code",
      "execution_count": null,
      "metadata": {
        "id": "mvVWDM5DzwkL"
      },
      "outputs": [],
      "source": [
        "training_acc = []\n",
        "training_err = []\n",
        "v = np.random.normal(size=(4,2))\n",
        "w = np.random.normal(size=(2,3))\n",
        "best = [0, None, None]\n",
        "last = 0\n",
        "for _ in epochs:\n",
        "    z_in = np.dot(X_train, v)\n",
        "\n",
        "    z = []\n",
        "    for zs in z_in:\n",
        "        temp = []\n",
        "        for i in zs:\n",
        "            temp.append(activation(i))\n",
        "        temp = np.array(temp)\n",
        "        z.append(temp)\n",
        "\n",
        "    z = np.array(z)\n",
        "\n",
        "    y_in = np.dot(z, w)\n",
        "\n",
        "    y_hat = []\n",
        "    for ys in y_in:\n",
        "        temp = []\n",
        "        for y in ys:\n",
        "            temp.append(activation(y))\n",
        "        temp = np.array(temp)\n",
        "        y_hat.append(temp)\n",
        "\n",
        "    y_hat = np.array(y_hat)\n",
        "\n",
        "    train_err = error(Y_train, y_hat)\n",
        "    training_err.append(round(train_err, 7))\n",
        "\n",
        "    train_acc = accuracy(Y_train, y_hat)\n",
        "    training_acc.append(round(train_acc, 7))\n",
        "\n",
        "    if (train_acc > best[0]):\n",
        "        best = [train_acc, w, v]\n",
        "\n",
        "    dy = (Y_train - y_hat) * y_hat * (1 - y_hat)\n",
        "    dw = np.dot(z.transpose(), dy)\n",
        "    w += alpha*dw\n",
        "\n",
        "    dz = np.dot(dy,w.transpose()) * z * (1-z)\n",
        "    dv = np.dot(X_train.transpose(), dz)\n",
        "    v += alpha * dv\n",
        "\n",
        "w = best[1]\n",
        "v = best[2]"
      ]
    },
    {
      "cell_type": "code",
      "execution_count": null,
      "metadata": {
        "colab": {
          "base_uri": "https://localhost:8080/"
        },
        "id": "a_naCbx0HPvP",
        "outputId": "9ddcfd66-f9a2-4212-bd42-d5b62aeb758c"
      },
      "outputs": [
        {
          "output_type": "execute_result",
          "data": {
            "text/plain": [
              "[0.3142857, 0.3428571, 0.3428571, 0.3428571, 0.3428571]"
            ]
          },
          "metadata": {},
          "execution_count": 14
        }
      ],
      "source": [
        "training_acc[:5]"
      ]
    },
    {
      "cell_type": "code",
      "execution_count": null,
      "metadata": {
        "colab": {
          "base_uri": "https://localhost:8080/",
          "height": 430
        },
        "id": "Brq2ye5e11Vm",
        "outputId": "c46d50dd-74ac-4e6e-bec9-6a75128ff7ce"
      },
      "outputs": [
        {
          "output_type": "display_data",
          "data": {
            "text/plain": [
              "<Figure size 640x480 with 1 Axes>"
            ],
            "image/png": "[encoded data removed]"
          },
          "metadata": {}
        }
      ],
      "source": [
        "plt.plot(epochs, training_acc)\n",
        "plt.show()"
      ]
    },
    {
      "cell_type": "code",
      "execution_count": null,
      "metadata": {
        "colab": {
          "base_uri": "https://localhost:8080/"
        },
        "id": "qJJRBywc4bJB",
        "outputId": "364f10d4-9c64-41d2-f809-ec2c3a7a1450"
      },
      "outputs": [
        {
          "output_type": "execute_result",
          "data": {
            "text/plain": [
              "[0.2922609, 0.4222874, 0.2998905, 0.422901, 0.2968899]"
            ]
          },
          "metadata": {},
          "execution_count": 16
        }
      ],
      "source": [
        "training_err[:5]"
      ]
    },
    {
      "cell_type": "code",
      "execution_count": null,
      "metadata": {
        "colab": {
          "base_uri": "https://localhost:8080/",
          "height": 430
        },
        "id": "xk3Zssub2G9H",
        "outputId": "799aa868-e00e-48fc-e97f-fcbee9e8a0bf"
      },
      "outputs": [
        {
          "output_type": "display_data",
          "data": {
            "text/plain": [
              "<Figure size 640x480 with 1 Axes>"
            ],
            "image/png": "[encoded data removed]"
          },
          "metadata": {}
        }
      ],
      "source": [
        "me = training_err\n",
        "plt.plot(epochs, me)\n",
        "plt.show()"
      ]
    },
    {
      "cell_type": "code",
      "execution_count": null,
      "metadata": {
        "colab": {
          "base_uri": "https://localhost:8080/"
        },
        "id": "r8Y7wFJDxILl",
        "outputId": "6de919ff-b06e-4812-8831-e9c0acee14f5"
      },
      "outputs": [
        {
          "output_type": "stream",
          "name": "stdout",
          "text": [
            "[[ 39.81870438 149.39397023]\n",
            " [ 43.90915164 163.82915097]\n",
            " [ 34.65815521 121.4665344 ]\n",
            " [ 34.84666964 121.80024309]\n",
            " [ 46.46391732 175.18505982]]\n",
            "(45, 2)\n"
          ]
        }
      ],
      "source": [
        "z_in = np.dot(X_test, v)\n",
        "print(z_in[:5])\n",
        "print(z_in.shape)"
      ]
    },
    {
      "cell_type": "code",
      "execution_count": null,
      "metadata": {
        "colab": {
          "base_uri": "https://localhost:8080/"
        },
        "id": "7KyeYRhsxILl",
        "outputId": "29ef1ef9-16e0-45e1-fdc4-b41abde35a44"
      },
      "outputs": [
        {
          "output_type": "stream",
          "name": "stdout",
          "text": [
            "[[1. 1.]\n",
            " [1. 1.]\n",
            " [1. 1.]\n",
            " [1. 1.]\n",
            " [1. 1.]]\n",
            "(45, 2)\n"
          ]
        }
      ],
      "source": [
        "z = []\n",
        "for zs in z_in:\n",
        "    temp = []\n",
        "    for i in zs:\n",
        "        temp.append(activation(i))\n",
        "    temp = np.array(temp)\n",
        "    z.append(temp)\n",
        "\n",
        "z = np.array(z)\n",
        "print(z[:5])\n",
        "print(z.shape)"
      ]
    },
    {
      "cell_type": "code",
      "execution_count": null,
      "metadata": {
        "colab": {
          "base_uri": "https://localhost:8080/"
        },
        "id": "H8-ElewOxILm",
        "outputId": "48a2ecd8-1974-4e4e-bf19-3ca6974e1827"
      },
      "outputs": [
        {
          "output_type": "stream",
          "name": "stdout",
          "text": [
            "[[-10.07645515 -14.81775106  -6.0291498 ]\n",
            " [-10.07645515 -14.81775106  -6.0291498 ]\n",
            " [-10.07645515 -14.81775106  -6.0291498 ]\n",
            " [-10.07645515 -14.81775106  -6.0291498 ]\n",
            " [-10.07645515 -14.81775106  -6.0291498 ]]\n",
            "(45, 3)\n"
          ]
        }
      ],
      "source": [
        "y_in = np.dot(z, w)\n",
        "print(y_in[:5])\n",
        "print(y_in.shape)"
      ]
    },
    {
      "cell_type": "code",
      "execution_count": null,
      "metadata": {
        "colab": {
          "base_uri": "https://localhost:8080/"
        },
        "id": "e9zKC9FvxILm",
        "outputId": "d46801a8-3c3a-4871-e1e0-9c75ad97a52a"
      },
      "outputs": [
        {
          "output_type": "stream",
          "name": "stdout",
          "text": [
            "[[4.20564748e-05 3.67055996e-07 2.40175766e-03]\n",
            " [4.20564748e-05 3.67055996e-07 2.40175766e-03]\n",
            " [4.20564748e-05 3.67055996e-07 2.40175766e-03]\n",
            " [4.20564748e-05 3.67055996e-07 2.40175766e-03]\n",
            " [4.20564748e-05 3.67055996e-07 2.40175766e-03]]\n",
            "(45, 3)\n"
          ]
        }
      ],
      "source": [
        "y_hat = []\n",
        "for ys in y_in:\n",
        "    temp = []\n",
        "    for y in ys:\n",
        "        temp.append(activation(y))\n",
        "    temp = np.array(temp)\n",
        "    y_hat.append(temp)\n",
        "\n",
        "y_hat = np.array(y_hat)\n",
        "\n",
        "print(y_hat[:5])\n",
        "print(y_hat.shape)"
      ]
    },
    {
      "cell_type": "code",
      "execution_count": null,
      "metadata": {
        "colab": {
          "base_uri": "https://localhost:8080/"
        },
        "id": "nk8vlvPVxILm",
        "outputId": "a8fc5d74-937c-4d39-e3b4-7ff45666bc8e"
      },
      "outputs": [
        {
          "output_type": "stream",
          "name": "stdout",
          "text": [
            "0.332828299137653\n"
          ]
        }
      ],
      "source": [
        "test_err = error(Y_test, y_hat)\n",
        "print(test_err.mean())"
      ]
    },
    {
      "cell_type": "code",
      "source": [
        "test_acc = accuracy(Y_test, y_hat)\n",
        "accuracy_percentage = round(test_acc * 100, 2)\n",
        "print(str(accuracy_percentage) + '%')\n"
      ],
      "metadata": {
        "colab": {
          "base_uri": "https://localhost:8080/"
        },
        "id": "Wlw8y7ZuzGsY",
        "outputId": "6f4e6581-40cb-4806-d4b5-6fc0295dbbda"
      },
      "execution_count": null,
      "outputs": [
        {
          "output_type": "stream",
          "name": "stdout",
          "text": [
            "31.11%\n"
          ]
        }
      ]
    }
  ],
  "metadata": {
    "colab": {
      "provenance": []
    },
    "kernelspec": {
      "display_name": "Python 3 (ipykernel)",
      "language": "python",
      "name": "python3"
    },
    "language_info": {
      "codemirror_mode": {
        "name": "ipython",
        "version": 3
      },
      "file_extension": ".py",
      "mimetype": "text/x-python",
      "name": "python",
      "nbconvert_exporter": "python",
      "pygments_lexer": "ipython3",
      "version": "3.11.4"
    }
  },
  "nbformat": 4,
  "nbformat_minor": 0
}